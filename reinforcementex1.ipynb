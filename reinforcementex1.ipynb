{
  "nbformat": 4,
  "nbformat_minor": 0,
  "metadata": {
    "colab": {
      "provenance": []
    },
    "kernelspec": {
      "name": "python3",
      "display_name": "Python 3"
    },
    "language_info": {
      "name": "python"
    }
  },
  "cells": [
    {
      "cell_type": "code",
      "execution_count": null,
      "metadata": {
        "colab": {
          "base_uri": "https://localhost:8080/"
        },
        "id": "ctbaLth5-2Yx",
        "outputId": "96148348-f12d-463c-830e-cbde3b2615f4"
      },
      "outputs": [
        {
          "output_type": "execute_result",
          "data": {
            "text/plain": [
              "{0: {0: [(1.0, 0, 0.0, False)], 1: [(1.0, 0, 0.0, False)]},\n",
              " 1: {0: [(1.0, 1, 1, True)], 1: [(1.0, 1, 1, True)]},\n",
              " 2: {0: [(1.0, 2, 0, False)], 1: [(1.0, 2, 0, False)]},\n",
              " 3: {0: [(1.0, 0, 0, False)], 1: [(1.0, 1, 1, True)]}}"
            ]
          },
          "metadata": {},
          "execution_count": 3
        }
      ],
      "source": [
        "P = {\n",
        "    0:{\n",
        "        0: [(1.0,0,0.0,False)],\n",
        "        1: [(1.0,0,0.0,False)]\n",
        "\n",
        "    },\n",
        "    1:{\n",
        "        0: [(1.0,1,1,True)],\n",
        "        1: [(1.0,1,1,True)]\n",
        "\n",
        "    },\n",
        "    2:{\n",
        "        0: [(1.0,2,0,False)],\n",
        "        1: [(1.0,2,0,False)]\n",
        "\n",
        "    },\n",
        "    3:{\n",
        "        0: [(1.0,0,0,False)],\n",
        "        1: [(1.0,1,1,True)]\n",
        "\n",
        "    }\n",
        "}\n",
        "P"
      ]
    },
    {
      "cell_type": "code",
      "source": [],
      "metadata": {
        "id": "FM9zdx8O_iR8"
      },
      "execution_count": null,
      "outputs": []
    }
  ]
}